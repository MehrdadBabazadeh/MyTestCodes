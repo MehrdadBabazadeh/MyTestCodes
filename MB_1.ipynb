{
  "nbformat": 4,
  "nbformat_minor": 0,
  "metadata": {
    "colab": {
      "provenance": [],
      "authorship_tag": "ABX9TyMoI8YdVKD7byASi5vU83KZ",
      "include_colab_link": true
    },
    "kernelspec": {
      "name": "python3",
      "display_name": "Python 3"
    },
    "language_info": {
      "name": "python"
    }
  },
  "cells": [
    {
      "cell_type": "markdown",
      "metadata": {
        "id": "view-in-github",
        "colab_type": "text"
      },
      "source": [
        "<a href=\"https://colab.research.google.com/github/MehrdadBabazadeh/MyTestCodes/blob/Bran_1/MB_1.ipynb\" target=\"_parent\"><img src=\"https://colab.research.google.com/assets/colab-badge.svg\" alt=\"Open In Colab\"/></a>"
      ]
    },
    {
      "cell_type": "code",
      "execution_count": 5,
      "metadata": {
        "colab": {
          "base_uri": "https://localhost:8080/"
        },
        "id": "U0zY6hu2ooJr",
        "outputId": "dd30592a-ffe0-4928-d8cd-7d662b2a5fc3"
      },
      "outputs": [
        {
          "output_type": "stream",
          "name": "stdout",
          "text": [
            "c=  3\n",
            "D=  15\n"
          ]
        }
      ],
      "source": [
        "a=1\n",
        "b=2\n",
        "c=a+b\n",
        "print(\"c= \",c)\n",
        "print(\"D= \",c*5)"
      ]
    },
    {
      "cell_type": "markdown",
      "source": [
        "# **Section 1**\n",
        "## My first line\n"
      ],
      "metadata": {
        "id": "vBfikl6PpqPl"
      }
    },
    {
      "cell_type": "code",
      "source": [],
      "metadata": {
        "id": "AvjLa9Kjp1bZ"
      },
      "execution_count": 5,
      "outputs": []
    }
  ]
}